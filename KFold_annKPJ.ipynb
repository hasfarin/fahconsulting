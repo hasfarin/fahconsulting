{
  "nbformat": 4,
  "nbformat_minor": 0,
  "metadata": {
    "colab": {
      "name": "KFold_annKPJ.ipynb",
      "provenance": []
    },
    "kernelspec": {
      "name": "python3",
      "display_name": "Python 3"
    }
  },
  "cells": [
    {
      "cell_type": "markdown",
      "metadata": {
        "id": "bttpA2Sf3fUV"
      },
      "source": [
        "# DATA PREPROCESSING"
      ]
    },
    {
      "cell_type": "code",
      "metadata": {
        "id": "Sr64IXLQ1vNU"
      },
      "source": [
        "import numpy as np\n",
        "import pandas as pd\n",
        "import seaborn as sns\n",
        "import matplotlib.pyplot as plt\n",
        "import tensorflow as tf\n",
        "%matplotlib inline"
      ],
      "execution_count": null,
      "outputs": []
    },
    {
      "cell_type": "code",
      "metadata": {
        "id": "ED_fSat12EX3",
        "colab": {
          "base_uri": "https://localhost:8080/",
          "height": 35
        },
        "outputId": "4f13db78-f3d9-4927-ccff-5fe06075365d"
      },
      "source": [
        "tf.__version__"
      ],
      "execution_count": null,
      "outputs": [
        {
          "output_type": "execute_result",
          "data": {
            "application/vnd.google.colaboratory.intrinsic+json": {
              "type": "string"
            },
            "text/plain": [
              "'2.4.0'"
            ]
          },
          "metadata": {
            "tags": []
          },
          "execution_count": 2
        }
      ]
    },
    {
      "cell_type": "code",
      "metadata": {
        "id": "HxMKV4b12JXe"
      },
      "source": [
        "dataset = pd.read_csv('/content/drive/MyDrive/Master/MANB2153/csv_result-heart-statlog (1).csv')\n",
        "X = dataset.iloc[:,1:-1].values\n",
        "y = dataset.iloc[:,-1].values"
      ],
      "execution_count": null,
      "outputs": []
    },
    {
      "cell_type": "markdown",
      "metadata": {
        "id": "p1KRLYhLbDyC"
      },
      "source": [
        "## **DATA PREPROCESSING**"
      ]
    },
    {
      "cell_type": "code",
      "metadata": {
        "id": "LsNujT9KwP8Y"
      },
      "source": [
        "from sklearn.preprocessing import LabelEncoder #for only 2 class (Yes or No)\r\n",
        "le = LabelEncoder()\r\n",
        "y = le.fit_transform(y)"
      ],
      "execution_count": null,
      "outputs": []
    },
    {
      "cell_type": "markdown",
      "metadata": {
        "id": "nXxBBFNXRnV2"
      },
      "source": [
        "## **KFOLD CROSS VALIDATION FOR ANN**"
      ]
    },
    {
      "cell_type": "code",
      "metadata": {
        "colab": {
          "base_uri": "https://localhost:8080/"
        },
        "id": "Tjw6YlwMtXiN",
        "outputId": "85985da7-ab45-4430-b16e-1a7004076118"
      },
      "source": [
        "from sklearn.preprocessing import StandardScaler\r\n",
        "sc = StandardScaler()\r\n",
        "X = sc.fit_transform(X)\r\n",
        "\r\n",
        "#keras.wrappers is use to implement the k-cross validation\r\n",
        "from keras.wrappers.scikit_learn import KerasClassifier\r\n",
        "from sklearn.model_selection import cross_val_score\r\n",
        "from keras.models import Sequential\r\n",
        "from keras.layers import Dense\r\n",
        "from sklearn.model_selection import StratifiedKFold\r\n",
        "\t\r\n",
        "def create_baseline():\r\n",
        "    # create model\r\n",
        "    model = tf.keras.models.Sequential()\r\n",
        "    model.add(tf.keras.layers.Dense(60, activation='relu'))\r\n",
        "    model.add(tf.keras.layers.Dense(60, activation='relu'))\r\n",
        "    model.add(tf.keras.layers.Dense(1, activation='sigmoid'))\r\n",
        "    # Compile model\r\n",
        "    model.compile(loss='binary_crossentropy', optimizer='adam', metrics=['accuracy'])\r\n",
        "    return model\r\n",
        "\r\n",
        "# evaluate model with standardized dataset\r\n",
        "estimator = KerasClassifier(build_fn=create_baseline, epochs=100, batch_size=5,     verbose=0)\r\n",
        "kfold1 = StratifiedKFold(n_splits=2, shuffle=True, random_state=0)\r\n",
        "kfold2 = StratifiedKFold(n_splits=5, shuffle=True, random_state=0)\r\n",
        "kfold3 = StratifiedKFold(n_splits=10, shuffle=True, random_state=0)\r\n",
        "results1 = cross_val_score(estimator, X, y, cv=kfold1)\r\n",
        "results2 = cross_val_score(estimator, X, y, cv=kfold2)\r\n",
        "results3 = cross_val_score(estimator, X, y, cv=kfold3)\r\n",
        "print(\"Baseline: %.2f%% (%.2f%%)\" % (results1.mean()*100, results1.std()*100))\r\n",
        "print(\"Baseline: %.2f%% (%.2f%%)\" % (results2.mean()*100, results2.std()*100))\r\n",
        "print(\"Baseline: %.2f%% (%.2f%%)\" % (results3.mean()*100, results3.std()*100))"
      ],
      "execution_count": null,
      "outputs": [
        {
          "output_type": "stream",
          "text": [
            "Baseline: 81.11% (0.37%)\n",
            "Baseline: 82.96% (2.46%)\n",
            "Baseline: 78.89% (6.21%)\n"
          ],
          "name": "stdout"
        }
      ]
    },
    {
      "cell_type": "code",
      "metadata": {
        "colab": {
          "base_uri": "https://localhost:8080/"
        },
        "id": "efk5wK6VH1ak",
        "outputId": "4ec57a48-aa4f-420a-d6a6-3e5cdd739d5a"
      },
      "source": [
        "#to obtain prediction value of y\r\n",
        "from sklearn.model_selection import cross_val_predict\r\n",
        "y_pred1 = cross_val_predict(estimator, X, y, cv=kfold1)\r\n",
        "y_pred2 = cross_val_predict(estimator, X, y, cv=kfold2)\r\n",
        "y_pred3 = cross_val_predict(estimator, X, y, cv=kfold3)"
      ],
      "execution_count": null,
      "outputs": [
        {
          "output_type": "stream",
          "text": [
            "/usr/local/lib/python3.6/dist-packages/tensorflow/python/keras/engine/sequential.py:450: UserWarning: `model.predict_classes()` is deprecated and will be removed after 2021-01-01. Please use instead:* `np.argmax(model.predict(x), axis=-1)`,   if your model does multi-class classification   (e.g. if it uses a `softmax` last-layer activation).* `(model.predict(x) > 0.5).astype(\"int32\")`,   if your model does binary classification   (e.g. if it uses a `sigmoid` last-layer activation).\n",
            "  warnings.warn('`model.predict_classes()` is deprecated and '\n",
            "/usr/local/lib/python3.6/dist-packages/tensorflow/python/keras/engine/sequential.py:450: UserWarning: `model.predict_classes()` is deprecated and will be removed after 2021-01-01. Please use instead:* `np.argmax(model.predict(x), axis=-1)`,   if your model does multi-class classification   (e.g. if it uses a `softmax` last-layer activation).* `(model.predict(x) > 0.5).astype(\"int32\")`,   if your model does binary classification   (e.g. if it uses a `sigmoid` last-layer activation).\n",
            "  warnings.warn('`model.predict_classes()` is deprecated and '\n",
            "/usr/local/lib/python3.6/dist-packages/tensorflow/python/keras/engine/sequential.py:450: UserWarning: `model.predict_classes()` is deprecated and will be removed after 2021-01-01. Please use instead:* `np.argmax(model.predict(x), axis=-1)`,   if your model does multi-class classification   (e.g. if it uses a `softmax` last-layer activation).* `(model.predict(x) > 0.5).astype(\"int32\")`,   if your model does binary classification   (e.g. if it uses a `sigmoid` last-layer activation).\n",
            "  warnings.warn('`model.predict_classes()` is deprecated and '\n"
          ],
          "name": "stderr"
        }
      ]
    },
    {
      "cell_type": "code",
      "metadata": {
        "colab": {
          "base_uri": "https://localhost:8080/"
        },
        "id": "QIWqCgOHL_99",
        "outputId": "d99f3b54-931f-4149-eaa3-59efc74f9614"
      },
      "source": [
        "#CONFUSION MATRIX AND ACCURACY\r\n",
        "from sklearn.metrics import confusion_matrix, accuracy_score\r\n",
        "cm1 = confusion_matrix(y, y_pred1)\r\n",
        "print(cm1)\r\n",
        "acc1 = accuracy_score(y, y_pred1)\r\n",
        "print(acc1)\r\n",
        "\r\n",
        "cm2 = confusion_matrix(y, y_pred2)\r\n",
        "print(cm2)\r\n",
        "acc2 = accuracy_score(y, y_pred2)\r\n",
        "print(acc2)\r\n",
        "\r\n",
        "cm3 = confusion_matrix(y, y_pred3)\r\n",
        "print(cm3)\r\n",
        "acc3 = accuracy_score(y, y_pred3)\r\n",
        "print(acc3)"
      ],
      "execution_count": null,
      "outputs": [
        {
          "output_type": "stream",
          "text": [
            "[[121  29]\n",
            " [ 30  90]]\n",
            "0.7814814814814814\n",
            "[[132  18]\n",
            " [ 32  88]]\n",
            "0.8148148148148148\n",
            "[[127  23]\n",
            " [ 28  92]]\n",
            "0.8111111111111111\n"
          ],
          "name": "stdout"
        }
      ]
    },
    {
      "cell_type": "markdown",
      "metadata": {
        "id": "nzN4NftIWeyS"
      },
      "source": [
        "## **ANN TRAIN TEST VALIDATION**"
      ]
    },
    {
      "cell_type": "code",
      "metadata": {
        "id": "DE9EujpvNoa3"
      },
      "source": [
        "from sklearn.model_selection import train_test_split\r\n",
        "X_train, X_test, y_train, y_test = train_test_split(X, y, test_size = 0.2, random_state=1)"
      ],
      "execution_count": null,
      "outputs": []
    },
    {
      "cell_type": "code",
      "metadata": {
        "id": "lHW0Ad8XR-vt"
      },
      "source": [
        "from sklearn.preprocessing import StandardScaler\r\n",
        "sc = StandardScaler()\r\n",
        "X_train = sc.fit_transform(X_train)\r\n",
        "X_test = sc.transform(X_test)"
      ],
      "execution_count": null,
      "outputs": []
    },
    {
      "cell_type": "code",
      "metadata": {
        "id": "uJA_1SVV-6Fm",
        "colab": {
          "base_uri": "https://localhost:8080/"
        },
        "outputId": "b3a4b388-6f62-4e68-d256-f40bd4c62ba2"
      },
      "source": [
        "model4 = tf.keras.models.Sequential()\r\n",
        "model4.add(tf.keras.layers.Dense(units=60, activation='relu')) #rectifier activation function\r\n",
        "model4.add(tf.keras.layers.Dense(units=60, activation='relu')) #rectifier activation function\r\n",
        "model4.add(tf.keras.layers.Dense(units=1, activation='sigmoid'))\r\n",
        "model4.compile(optimizer = 'adam', loss = 'binary_crossentropy', metrics = ['accuracy'])\r\n",
        "model4.fit(X_train, y_train, batch_size = 5, epochs =100)"
      ],
      "execution_count": null,
      "outputs": [
        {
          "output_type": "stream",
          "text": [
            "Epoch 1/100\n",
            "44/44 [==============================] - 0s 1ms/step - loss: 0.6617 - accuracy: 0.5918\n",
            "Epoch 2/100\n",
            "44/44 [==============================] - 0s 1ms/step - loss: 0.4569 - accuracy: 0.8133\n",
            "Epoch 3/100\n",
            "44/44 [==============================] - 0s 1ms/step - loss: 0.3357 - accuracy: 0.8514\n",
            "Epoch 4/100\n",
            "44/44 [==============================] - 0s 1ms/step - loss: 0.2837 - accuracy: 0.8884\n",
            "Epoch 5/100\n",
            "44/44 [==============================] - 0s 1ms/step - loss: 0.3124 - accuracy: 0.8702\n",
            "Epoch 6/100\n",
            "44/44 [==============================] - 0s 1ms/step - loss: 0.2492 - accuracy: 0.9090\n",
            "Epoch 7/100\n",
            "44/44 [==============================] - 0s 1ms/step - loss: 0.3087 - accuracy: 0.8692\n",
            "Epoch 8/100\n",
            "44/44 [==============================] - 0s 1ms/step - loss: 0.2749 - accuracy: 0.8831\n",
            "Epoch 9/100\n",
            "44/44 [==============================] - 0s 1ms/step - loss: 0.2580 - accuracy: 0.8751\n",
            "Epoch 10/100\n",
            "44/44 [==============================] - 0s 1ms/step - loss: 0.2207 - accuracy: 0.9146\n",
            "Epoch 11/100\n",
            "44/44 [==============================] - 0s 1ms/step - loss: 0.1728 - accuracy: 0.9455\n",
            "Epoch 12/100\n",
            "44/44 [==============================] - 0s 1ms/step - loss: 0.2301 - accuracy: 0.9075\n",
            "Epoch 13/100\n",
            "44/44 [==============================] - 0s 1ms/step - loss: 0.1837 - accuracy: 0.9398\n",
            "Epoch 14/100\n",
            "44/44 [==============================] - 0s 1ms/step - loss: 0.1742 - accuracy: 0.9508\n",
            "Epoch 15/100\n",
            "44/44 [==============================] - 0s 2ms/step - loss: 0.2001 - accuracy: 0.9003\n",
            "Epoch 16/100\n",
            "44/44 [==============================] - 0s 2ms/step - loss: 0.1693 - accuracy: 0.9389\n",
            "Epoch 17/100\n",
            "44/44 [==============================] - 0s 1ms/step - loss: 0.1549 - accuracy: 0.9435\n",
            "Epoch 18/100\n",
            "44/44 [==============================] - 0s 2ms/step - loss: 0.1433 - accuracy: 0.9465\n",
            "Epoch 19/100\n",
            "44/44 [==============================] - 0s 1ms/step - loss: 0.1645 - accuracy: 0.9290\n",
            "Epoch 20/100\n",
            "44/44 [==============================] - 0s 1ms/step - loss: 0.1426 - accuracy: 0.9568\n",
            "Epoch 21/100\n",
            "44/44 [==============================] - 0s 2ms/step - loss: 0.1010 - accuracy: 0.9685\n",
            "Epoch 22/100\n",
            "44/44 [==============================] - 0s 2ms/step - loss: 0.1097 - accuracy: 0.9696\n",
            "Epoch 23/100\n",
            "44/44 [==============================] - 0s 2ms/step - loss: 0.0976 - accuracy: 0.9846\n",
            "Epoch 24/100\n",
            "44/44 [==============================] - 0s 2ms/step - loss: 0.0833 - accuracy: 0.9773\n",
            "Epoch 25/100\n",
            "44/44 [==============================] - 0s 1ms/step - loss: 0.1012 - accuracy: 0.9791\n",
            "Epoch 26/100\n",
            "44/44 [==============================] - 0s 1ms/step - loss: 0.1005 - accuracy: 0.9789\n",
            "Epoch 27/100\n",
            "44/44 [==============================] - 0s 1ms/step - loss: 0.0854 - accuracy: 0.9855\n",
            "Epoch 28/100\n",
            "44/44 [==============================] - 0s 1ms/step - loss: 0.0753 - accuracy: 0.9858\n",
            "Epoch 29/100\n",
            "44/44 [==============================] - 0s 1ms/step - loss: 0.0776 - accuracy: 0.9808\n",
            "Epoch 30/100\n",
            "44/44 [==============================] - 0s 1ms/step - loss: 0.0714 - accuracy: 0.9794\n",
            "Epoch 31/100\n",
            "44/44 [==============================] - 0s 1ms/step - loss: 0.0485 - accuracy: 0.9956\n",
            "Epoch 32/100\n",
            "44/44 [==============================] - 0s 1ms/step - loss: 0.0569 - accuracy: 0.9902\n",
            "Epoch 33/100\n",
            "44/44 [==============================] - 0s 1ms/step - loss: 0.0650 - accuracy: 0.9863\n",
            "Epoch 34/100\n",
            "44/44 [==============================] - 0s 1ms/step - loss: 0.0418 - accuracy: 0.9976\n",
            "Epoch 35/100\n",
            "44/44 [==============================] - 0s 1ms/step - loss: 0.0473 - accuracy: 0.9940\n",
            "Epoch 36/100\n",
            "44/44 [==============================] - 0s 1ms/step - loss: 0.0407 - accuracy: 0.9843\n",
            "Epoch 37/100\n",
            "44/44 [==============================] - 0s 1ms/step - loss: 0.0343 - accuracy: 0.9935\n",
            "Epoch 38/100\n",
            "44/44 [==============================] - 0s 1ms/step - loss: 0.0317 - accuracy: 0.9920\n",
            "Epoch 39/100\n",
            "44/44 [==============================] - 0s 1ms/step - loss: 0.0339 - accuracy: 0.9962\n",
            "Epoch 40/100\n",
            "44/44 [==============================] - 0s 2ms/step - loss: 0.0255 - accuracy: 0.9995\n",
            "Epoch 41/100\n",
            "44/44 [==============================] - 0s 1ms/step - loss: 0.0232 - accuracy: 1.0000\n",
            "Epoch 42/100\n",
            "44/44 [==============================] - 0s 1ms/step - loss: 0.0237 - accuracy: 1.0000\n",
            "Epoch 43/100\n",
            "44/44 [==============================] - 0s 1ms/step - loss: 0.0230 - accuracy: 1.0000\n",
            "Epoch 44/100\n",
            "44/44 [==============================] - 0s 2ms/step - loss: 0.0283 - accuracy: 0.9990\n",
            "Epoch 45/100\n",
            "44/44 [==============================] - 0s 1ms/step - loss: 0.0212 - accuracy: 1.0000\n",
            "Epoch 46/100\n",
            "44/44 [==============================] - 0s 1ms/step - loss: 0.0168 - accuracy: 0.9965\n",
            "Epoch 47/100\n",
            "44/44 [==============================] - 0s 2ms/step - loss: 0.0185 - accuracy: 1.0000\n",
            "Epoch 48/100\n",
            "44/44 [==============================] - 0s 1ms/step - loss: 0.0148 - accuracy: 1.0000\n",
            "Epoch 49/100\n",
            "44/44 [==============================] - 0s 2ms/step - loss: 0.0149 - accuracy: 1.0000\n",
            "Epoch 50/100\n",
            "44/44 [==============================] - 0s 1ms/step - loss: 0.0147 - accuracy: 1.0000\n",
            "Epoch 51/100\n",
            "44/44 [==============================] - 0s 1ms/step - loss: 0.0122 - accuracy: 1.0000\n",
            "Epoch 52/100\n",
            "44/44 [==============================] - 0s 1ms/step - loss: 0.0138 - accuracy: 1.0000\n",
            "Epoch 53/100\n",
            "44/44 [==============================] - 0s 2ms/step - loss: 0.0125 - accuracy: 1.0000\n",
            "Epoch 54/100\n",
            "44/44 [==============================] - 0s 2ms/step - loss: 0.0136 - accuracy: 1.0000\n",
            "Epoch 55/100\n",
            "44/44 [==============================] - 0s 1ms/step - loss: 0.0102 - accuracy: 1.0000\n",
            "Epoch 56/100\n",
            "44/44 [==============================] - 0s 1ms/step - loss: 0.0091 - accuracy: 1.0000\n",
            "Epoch 57/100\n",
            "44/44 [==============================] - 0s 1ms/step - loss: 0.0106 - accuracy: 1.0000\n",
            "Epoch 58/100\n",
            "44/44 [==============================] - 0s 1ms/step - loss: 0.0091 - accuracy: 1.0000\n",
            "Epoch 59/100\n",
            "44/44 [==============================] - 0s 1ms/step - loss: 0.0080 - accuracy: 1.0000\n",
            "Epoch 60/100\n",
            "44/44 [==============================] - 0s 1ms/step - loss: 0.0068 - accuracy: 1.0000\n",
            "Epoch 61/100\n",
            "44/44 [==============================] - 0s 2ms/step - loss: 0.0072 - accuracy: 1.0000\n",
            "Epoch 62/100\n",
            "44/44 [==============================] - 0s 1ms/step - loss: 0.0078 - accuracy: 1.0000\n",
            "Epoch 63/100\n",
            "44/44 [==============================] - 0s 2ms/step - loss: 0.0089 - accuracy: 1.0000\n",
            "Epoch 64/100\n",
            "44/44 [==============================] - 0s 1ms/step - loss: 0.0080 - accuracy: 1.0000\n",
            "Epoch 65/100\n",
            "44/44 [==============================] - 0s 2ms/step - loss: 0.0064 - accuracy: 1.0000\n",
            "Epoch 66/100\n",
            "44/44 [==============================] - 0s 1ms/step - loss: 0.0039 - accuracy: 1.0000\n",
            "Epoch 67/100\n",
            "44/44 [==============================] - 0s 1ms/step - loss: 0.0051 - accuracy: 1.0000\n",
            "Epoch 68/100\n",
            "44/44 [==============================] - 0s 1ms/step - loss: 0.0034 - accuracy: 1.0000\n",
            "Epoch 69/100\n",
            "44/44 [==============================] - 0s 2ms/step - loss: 0.0056 - accuracy: 1.0000\n",
            "Epoch 70/100\n",
            "44/44 [==============================] - 0s 1ms/step - loss: 0.0040 - accuracy: 1.0000\n",
            "Epoch 71/100\n",
            "44/44 [==============================] - 0s 1ms/step - loss: 0.0040 - accuracy: 1.0000\n",
            "Epoch 72/100\n",
            "44/44 [==============================] - 0s 1ms/step - loss: 0.0034 - accuracy: 1.0000\n",
            "Epoch 73/100\n",
            "44/44 [==============================] - 0s 1ms/step - loss: 0.0036 - accuracy: 1.0000\n",
            "Epoch 74/100\n",
            "44/44 [==============================] - 0s 2ms/step - loss: 0.0042 - accuracy: 1.0000\n",
            "Epoch 75/100\n",
            "44/44 [==============================] - 0s 1ms/step - loss: 0.0039 - accuracy: 1.0000\n",
            "Epoch 76/100\n",
            "44/44 [==============================] - 0s 2ms/step - loss: 0.0027 - accuracy: 1.0000\n",
            "Epoch 77/100\n",
            "44/44 [==============================] - 0s 1ms/step - loss: 0.0029 - accuracy: 1.0000\n",
            "Epoch 78/100\n",
            "44/44 [==============================] - 0s 1ms/step - loss: 0.0028 - accuracy: 1.0000\n",
            "Epoch 79/100\n",
            "44/44 [==============================] - 0s 1ms/step - loss: 0.0027 - accuracy: 1.0000\n",
            "Epoch 80/100\n",
            "44/44 [==============================] - 0s 1ms/step - loss: 0.0032 - accuracy: 1.0000\n",
            "Epoch 81/100\n",
            "44/44 [==============================] - 0s 2ms/step - loss: 0.0021 - accuracy: 1.0000\n",
            "Epoch 82/100\n",
            "44/44 [==============================] - 0s 1ms/step - loss: 0.0020 - accuracy: 1.0000\n",
            "Epoch 83/100\n",
            "44/44 [==============================] - 0s 2ms/step - loss: 0.0023 - accuracy: 1.0000\n",
            "Epoch 84/100\n",
            "44/44 [==============================] - 0s 2ms/step - loss: 0.0023 - accuracy: 1.0000\n",
            "Epoch 85/100\n",
            "44/44 [==============================] - 0s 1ms/step - loss: 0.0022 - accuracy: 1.0000\n",
            "Epoch 86/100\n",
            "44/44 [==============================] - 0s 1ms/step - loss: 0.0020 - accuracy: 1.0000\n",
            "Epoch 87/100\n",
            "44/44 [==============================] - 0s 1ms/step - loss: 0.0020 - accuracy: 1.0000\n",
            "Epoch 88/100\n",
            "44/44 [==============================] - 0s 2ms/step - loss: 0.0016 - accuracy: 1.0000\n",
            "Epoch 89/100\n",
            "44/44 [==============================] - 0s 1ms/step - loss: 0.0014 - accuracy: 1.0000\n",
            "Epoch 90/100\n",
            "44/44 [==============================] - 0s 1ms/step - loss: 0.0022 - accuracy: 1.0000\n",
            "Epoch 91/100\n",
            "44/44 [==============================] - 0s 2ms/step - loss: 0.0021 - accuracy: 1.0000\n",
            "Epoch 92/100\n",
            "44/44 [==============================] - 0s 1ms/step - loss: 0.0020 - accuracy: 1.0000\n",
            "Epoch 93/100\n",
            "44/44 [==============================] - 0s 1ms/step - loss: 0.0017 - accuracy: 1.0000\n",
            "Epoch 94/100\n",
            "44/44 [==============================] - 0s 1ms/step - loss: 0.0014 - accuracy: 1.0000\n",
            "Epoch 95/100\n",
            "44/44 [==============================] - 0s 2ms/step - loss: 0.0014 - accuracy: 1.0000\n",
            "Epoch 96/100\n",
            "44/44 [==============================] - 0s 1ms/step - loss: 0.0014 - accuracy: 1.0000\n",
            "Epoch 97/100\n",
            "44/44 [==============================] - 0s 1ms/step - loss: 9.1815e-04 - accuracy: 1.0000\n",
            "Epoch 98/100\n",
            "44/44 [==============================] - 0s 2ms/step - loss: 0.0014 - accuracy: 1.0000\n",
            "Epoch 99/100\n",
            "44/44 [==============================] - 0s 2ms/step - loss: 0.0012 - accuracy: 1.0000\n",
            "Epoch 100/100\n",
            "44/44 [==============================] - 0s 1ms/step - loss: 8.2380e-04 - accuracy: 1.0000\n"
          ],
          "name": "stdout"
        },
        {
          "output_type": "execute_result",
          "data": {
            "text/plain": [
              "<tensorflow.python.keras.callbacks.History at 0x7fcd8bed74a8>"
            ]
          },
          "metadata": {
            "tags": []
          },
          "execution_count": 14
        }
      ]
    },
    {
      "cell_type": "code",
      "metadata": {
        "colab": {
          "base_uri": "https://localhost:8080/"
        },
        "id": "8OaqYDY-NBns",
        "outputId": "881c3747-8179-4831-bd59-a703b7057bd7"
      },
      "source": [
        "#CONFUSION MATRIX AND ACCURACY\r\n",
        "from sklearn.metrics import confusion_matrix, accuracy_score\r\n",
        "y_pred4 = model4.predict(X_test)\r\n",
        "y_pred4 = (y_pred4>0.5)\r\n",
        "cm4 = confusion_matrix(y_test, y_pred4)\r\n",
        "print(cm4)\r\n",
        "acc4 = accuracy_score(y_test, y_pred4)\r\n",
        "print(acc4)"
      ],
      "execution_count": null,
      "outputs": [
        {
          "output_type": "stream",
          "text": [
            "[[27  4]\n",
            " [ 6 17]]\n",
            "0.8148148148148148\n"
          ],
          "name": "stdout"
        }
      ]
    },
    {
      "cell_type": "code",
      "metadata": {
        "colab": {
          "base_uri": "https://localhost:8080/"
        },
        "id": "nEM1QsFVsRqF",
        "outputId": "4ef211fd-6f0c-4291-9157-198e894d6afd"
      },
      "source": [
        "model5 = tf.keras.models.Sequential()\r\n",
        "model5.add(tf.keras.layers.Dense(units=60, activation='relu')) #rectifier activation function\r\n",
        "model5.add(tf.keras.layers.Dense(units=60, activation='relu')) #rectifier activation function\r\n",
        "model5.add(tf.keras.layers.Dense(units=60, activation='relu')) #rectifier activation function\r\n",
        "model5.add(tf.keras.layers.Dense(units=1, activation='sigmoid'))\r\n",
        "model5.compile(optimizer = 'adam', loss = 'binary_crossentropy', metrics = ['accuracy'])\r\n",
        "model5.fit(X_train, y_train, batch_size = 5, epochs =100)\r\n",
        "#CONFUSION MATRIX AND ACCURACY\r\n",
        "from sklearn.metrics import confusion_matrix, accuracy_score\r\n",
        "y_pred5 = model1.predict(X_test)\r\n",
        "y_pred5 = (y_pred5>0.5)\r\n",
        "cm5 = confusion_matrix(y_test, y_pred5)\r\n",
        "print(cm5)\r\n",
        "acc5 = accuracy_score(y_test, y_pred5)\r\n",
        "print(acc5)"
      ],
      "execution_count": null,
      "outputs": [
        {
          "output_type": "stream",
          "text": [
            "Epoch 1/100\n",
            "44/44 [==============================] - 1s 1ms/step - loss: 0.6041 - accuracy: 0.7374\n",
            "Epoch 2/100\n",
            "44/44 [==============================] - 0s 2ms/step - loss: 0.3810 - accuracy: 0.8754\n",
            "Epoch 3/100\n",
            "44/44 [==============================] - 0s 1ms/step - loss: 0.3604 - accuracy: 0.8328\n",
            "Epoch 4/100\n",
            "44/44 [==============================] - 0s 1ms/step - loss: 0.2619 - accuracy: 0.9025\n",
            "Epoch 5/100\n",
            "44/44 [==============================] - 0s 1ms/step - loss: 0.3153 - accuracy: 0.8829\n",
            "Epoch 6/100\n",
            "44/44 [==============================] - 0s 1ms/step - loss: 0.2096 - accuracy: 0.9161\n",
            "Epoch 7/100\n",
            "44/44 [==============================] - 0s 1ms/step - loss: 0.2062 - accuracy: 0.9132\n",
            "Epoch 8/100\n",
            "44/44 [==============================] - 0s 1ms/step - loss: 0.2194 - accuracy: 0.9198\n",
            "Epoch 9/100\n",
            "44/44 [==============================] - 0s 2ms/step - loss: 0.1920 - accuracy: 0.9389\n",
            "Epoch 10/100\n",
            "44/44 [==============================] - 0s 1ms/step - loss: 0.2040 - accuracy: 0.9174\n",
            "Epoch 11/100\n",
            "44/44 [==============================] - 0s 1ms/step - loss: 0.1481 - accuracy: 0.9339\n",
            "Epoch 12/100\n",
            "44/44 [==============================] - 0s 2ms/step - loss: 0.1488 - accuracy: 0.9418\n",
            "Epoch 13/100\n",
            "44/44 [==============================] - 0s 2ms/step - loss: 0.0994 - accuracy: 0.9764\n",
            "Epoch 14/100\n",
            "44/44 [==============================] - 0s 2ms/step - loss: 0.1183 - accuracy: 0.9726\n",
            "Epoch 15/100\n",
            "44/44 [==============================] - 0s 1ms/step - loss: 0.0852 - accuracy: 0.9814\n",
            "Epoch 16/100\n",
            "44/44 [==============================] - 0s 1ms/step - loss: 0.0850 - accuracy: 0.9708\n",
            "Epoch 17/100\n",
            "44/44 [==============================] - 0s 2ms/step - loss: 0.0644 - accuracy: 0.9836\n",
            "Epoch 18/100\n",
            "44/44 [==============================] - 0s 1ms/step - loss: 0.0708 - accuracy: 0.9878\n",
            "Epoch 19/100\n",
            "44/44 [==============================] - 0s 1ms/step - loss: 0.0502 - accuracy: 0.9827\n",
            "Epoch 20/100\n",
            "44/44 [==============================] - 0s 1ms/step - loss: 0.0405 - accuracy: 0.9936\n",
            "Epoch 21/100\n",
            "44/44 [==============================] - 0s 1ms/step - loss: 0.0338 - accuracy: 0.9830\n",
            "Epoch 22/100\n",
            "44/44 [==============================] - 0s 1ms/step - loss: 0.0323 - accuracy: 1.0000\n",
            "Epoch 23/100\n",
            "44/44 [==============================] - 0s 2ms/step - loss: 0.0278 - accuracy: 0.9978\n",
            "Epoch 24/100\n",
            "44/44 [==============================] - 0s 2ms/step - loss: 0.0244 - accuracy: 0.9957\n",
            "Epoch 25/100\n",
            "44/44 [==============================] - 0s 1ms/step - loss: 0.0178 - accuracy: 1.0000\n",
            "Epoch 26/100\n",
            "44/44 [==============================] - 0s 2ms/step - loss: 0.0117 - accuracy: 0.9988\n",
            "Epoch 27/100\n",
            "44/44 [==============================] - 0s 2ms/step - loss: 0.0138 - accuracy: 1.0000\n",
            "Epoch 28/100\n",
            "44/44 [==============================] - 0s 1ms/step - loss: 0.0094 - accuracy: 1.0000\n",
            "Epoch 29/100\n",
            "44/44 [==============================] - 0s 1ms/step - loss: 0.0098 - accuracy: 1.0000\n",
            "Epoch 30/100\n",
            "44/44 [==============================] - 0s 2ms/step - loss: 0.0070 - accuracy: 1.0000\n",
            "Epoch 31/100\n",
            "44/44 [==============================] - 0s 1ms/step - loss: 0.0044 - accuracy: 1.0000\n",
            "Epoch 32/100\n",
            "44/44 [==============================] - 0s 2ms/step - loss: 0.0052 - accuracy: 1.0000\n",
            "Epoch 33/100\n",
            "44/44 [==============================] - 0s 1ms/step - loss: 0.0050 - accuracy: 1.0000\n",
            "Epoch 34/100\n",
            "44/44 [==============================] - 0s 1ms/step - loss: 0.0033 - accuracy: 1.0000\n",
            "Epoch 35/100\n",
            "44/44 [==============================] - 0s 1ms/step - loss: 0.0040 - accuracy: 1.0000\n",
            "Epoch 36/100\n",
            "44/44 [==============================] - 0s 1ms/step - loss: 0.0049 - accuracy: 1.0000\n",
            "Epoch 37/100\n",
            "44/44 [==============================] - 0s 2ms/step - loss: 0.0019 - accuracy: 1.0000\n",
            "Epoch 38/100\n",
            "44/44 [==============================] - 0s 1ms/step - loss: 0.0023 - accuracy: 1.0000\n",
            "Epoch 39/100\n",
            "44/44 [==============================] - 0s 2ms/step - loss: 0.0022 - accuracy: 1.0000\n",
            "Epoch 40/100\n",
            "44/44 [==============================] - 0s 2ms/step - loss: 0.0023 - accuracy: 1.0000\n",
            "Epoch 41/100\n",
            "44/44 [==============================] - 0s 2ms/step - loss: 0.0021 - accuracy: 1.0000\n",
            "Epoch 42/100\n",
            "44/44 [==============================] - 0s 2ms/step - loss: 0.0023 - accuracy: 1.0000\n",
            "Epoch 43/100\n",
            "44/44 [==============================] - 0s 2ms/step - loss: 0.0031 - accuracy: 1.0000\n",
            "Epoch 44/100\n",
            "44/44 [==============================] - 0s 1ms/step - loss: 0.0016 - accuracy: 1.0000\n",
            "Epoch 45/100\n",
            "44/44 [==============================] - 0s 2ms/step - loss: 8.9650e-04 - accuracy: 1.0000\n",
            "Epoch 46/100\n",
            "44/44 [==============================] - 0s 2ms/step - loss: 0.0010 - accuracy: 1.0000\n",
            "Epoch 47/100\n",
            "44/44 [==============================] - 0s 1ms/step - loss: 9.5926e-04 - accuracy: 1.0000\n",
            "Epoch 48/100\n",
            "44/44 [==============================] - 0s 1ms/step - loss: 9.5122e-04 - accuracy: 1.0000\n",
            "Epoch 49/100\n",
            "44/44 [==============================] - 0s 1ms/step - loss: 9.5530e-04 - accuracy: 1.0000\n",
            "Epoch 50/100\n",
            "44/44 [==============================] - 0s 1ms/step - loss: 9.5383e-04 - accuracy: 1.0000\n",
            "Epoch 51/100\n",
            "44/44 [==============================] - 0s 1ms/step - loss: 7.8924e-04 - accuracy: 1.0000\n",
            "Epoch 52/100\n",
            "44/44 [==============================] - 0s 1ms/step - loss: 9.2461e-04 - accuracy: 1.0000\n",
            "Epoch 53/100\n",
            "44/44 [==============================] - 0s 1ms/step - loss: 5.0489e-04 - accuracy: 1.0000\n",
            "Epoch 54/100\n",
            "44/44 [==============================] - 0s 1ms/step - loss: 6.4337e-04 - accuracy: 1.0000\n",
            "Epoch 55/100\n",
            "44/44 [==============================] - 0s 2ms/step - loss: 5.8681e-04 - accuracy: 1.0000\n",
            "Epoch 56/100\n",
            "44/44 [==============================] - 0s 1ms/step - loss: 7.0174e-04 - accuracy: 1.0000\n",
            "Epoch 57/100\n",
            "44/44 [==============================] - 0s 1ms/step - loss: 5.9946e-04 - accuracy: 1.0000\n",
            "Epoch 58/100\n",
            "44/44 [==============================] - 0s 1ms/step - loss: 5.7593e-04 - accuracy: 1.0000\n",
            "Epoch 59/100\n",
            "44/44 [==============================] - 0s 1ms/step - loss: 4.8727e-04 - accuracy: 1.0000\n",
            "Epoch 60/100\n",
            "44/44 [==============================] - 0s 1ms/step - loss: 3.0353e-04 - accuracy: 1.0000\n",
            "Epoch 61/100\n",
            "44/44 [==============================] - 0s 2ms/step - loss: 4.6513e-04 - accuracy: 1.0000\n",
            "Epoch 62/100\n",
            "44/44 [==============================] - 0s 2ms/step - loss: 3.6731e-04 - accuracy: 1.0000\n",
            "Epoch 63/100\n",
            "44/44 [==============================] - 0s 1ms/step - loss: 4.7822e-04 - accuracy: 1.0000\n",
            "Epoch 64/100\n",
            "44/44 [==============================] - 0s 2ms/step - loss: 3.6148e-04 - accuracy: 1.0000\n",
            "Epoch 65/100\n",
            "44/44 [==============================] - 0s 2ms/step - loss: 3.6042e-04 - accuracy: 1.0000\n",
            "Epoch 66/100\n",
            "44/44 [==============================] - 0s 2ms/step - loss: 2.8662e-04 - accuracy: 1.0000\n",
            "Epoch 67/100\n",
            "44/44 [==============================] - 0s 1ms/step - loss: 4.0355e-04 - accuracy: 1.0000\n",
            "Epoch 68/100\n",
            "44/44 [==============================] - 0s 1ms/step - loss: 4.4434e-04 - accuracy: 1.0000\n",
            "Epoch 69/100\n",
            "44/44 [==============================] - 0s 2ms/step - loss: 3.5414e-04 - accuracy: 1.0000\n",
            "Epoch 70/100\n",
            "44/44 [==============================] - 0s 1ms/step - loss: 2.9912e-04 - accuracy: 1.0000\n",
            "Epoch 71/100\n",
            "44/44 [==============================] - 0s 1ms/step - loss: 3.2980e-04 - accuracy: 1.0000\n",
            "Epoch 72/100\n",
            "44/44 [==============================] - 0s 1ms/step - loss: 4.1340e-04 - accuracy: 1.0000\n",
            "Epoch 73/100\n",
            "44/44 [==============================] - 0s 1ms/step - loss: 1.9760e-04 - accuracy: 1.0000\n",
            "Epoch 74/100\n",
            "44/44 [==============================] - 0s 2ms/step - loss: 2.9226e-04 - accuracy: 1.0000\n",
            "Epoch 75/100\n",
            "44/44 [==============================] - 0s 2ms/step - loss: 2.0139e-04 - accuracy: 1.0000\n",
            "Epoch 76/100\n",
            "44/44 [==============================] - 0s 1ms/step - loss: 2.1521e-04 - accuracy: 1.0000\n",
            "Epoch 77/100\n",
            "44/44 [==============================] - 0s 1ms/step - loss: 2.7217e-04 - accuracy: 1.0000\n",
            "Epoch 78/100\n",
            "44/44 [==============================] - 0s 1ms/step - loss: 2.4340e-04 - accuracy: 1.0000\n",
            "Epoch 79/100\n",
            "44/44 [==============================] - 0s 2ms/step - loss: 2.1353e-04 - accuracy: 1.0000\n",
            "Epoch 80/100\n",
            "44/44 [==============================] - 0s 1ms/step - loss: 1.7614e-04 - accuracy: 1.0000\n",
            "Epoch 81/100\n",
            "44/44 [==============================] - 0s 1ms/step - loss: 1.6197e-04 - accuracy: 1.0000\n",
            "Epoch 82/100\n",
            "44/44 [==============================] - 0s 1ms/step - loss: 1.9088e-04 - accuracy: 1.0000\n",
            "Epoch 83/100\n",
            "44/44 [==============================] - 0s 2ms/step - loss: 1.3552e-04 - accuracy: 1.0000\n",
            "Epoch 84/100\n",
            "44/44 [==============================] - 0s 2ms/step - loss: 1.9090e-04 - accuracy: 1.0000\n",
            "Epoch 85/100\n",
            "44/44 [==============================] - 0s 1ms/step - loss: 1.1161e-04 - accuracy: 1.0000\n",
            "Epoch 86/100\n",
            "44/44 [==============================] - 0s 2ms/step - loss: 1.2755e-04 - accuracy: 1.0000\n",
            "Epoch 87/100\n",
            "44/44 [==============================] - 0s 2ms/step - loss: 1.3540e-04 - accuracy: 1.0000\n",
            "Epoch 88/100\n",
            "44/44 [==============================] - 0s 1ms/step - loss: 1.1786e-04 - accuracy: 1.0000\n",
            "Epoch 89/100\n",
            "44/44 [==============================] - 0s 1ms/step - loss: 1.4622e-04 - accuracy: 1.0000\n",
            "Epoch 90/100\n",
            "44/44 [==============================] - 0s 1ms/step - loss: 1.0884e-04 - accuracy: 1.0000\n",
            "Epoch 91/100\n",
            "44/44 [==============================] - 0s 2ms/step - loss: 1.3688e-04 - accuracy: 1.0000\n",
            "Epoch 92/100\n",
            "44/44 [==============================] - 0s 1ms/step - loss: 1.3258e-04 - accuracy: 1.0000\n",
            "Epoch 93/100\n",
            "44/44 [==============================] - 0s 1ms/step - loss: 1.4611e-04 - accuracy: 1.0000\n",
            "Epoch 94/100\n",
            "44/44 [==============================] - 0s 1ms/step - loss: 1.1131e-04 - accuracy: 1.0000\n",
            "Epoch 95/100\n",
            "44/44 [==============================] - 0s 1ms/step - loss: 1.0215e-04 - accuracy: 1.0000\n",
            "Epoch 96/100\n",
            "44/44 [==============================] - 0s 1ms/step - loss: 9.8888e-05 - accuracy: 1.0000\n",
            "Epoch 97/100\n",
            "44/44 [==============================] - 0s 2ms/step - loss: 9.4626e-05 - accuracy: 1.0000\n",
            "Epoch 98/100\n",
            "44/44 [==============================] - 0s 2ms/step - loss: 9.3714e-05 - accuracy: 1.0000\n",
            "Epoch 99/100\n",
            "44/44 [==============================] - 0s 2ms/step - loss: 1.0283e-04 - accuracy: 1.0000\n",
            "Epoch 100/100\n",
            "44/44 [==============================] - 0s 1ms/step - loss: 9.1438e-05 - accuracy: 1.0000\n",
            "[[26  5]\n",
            " [ 3 20]]\n",
            "0.8518518518518519\n"
          ],
          "name": "stdout"
        }
      ]
    },
    {
      "cell_type": "code",
      "metadata": {
        "colab": {
          "base_uri": "https://localhost:8080/"
        },
        "id": "0s1HrTa-t0IW",
        "outputId": "4c7528d4-b8c0-46bb-9cb6-72c78bab487b"
      },
      "source": [
        "model6 = tf.keras.models.Sequential()\r\n",
        "model6.add(tf.keras.layers.Dense(units=60, activation='relu')) #rectifier activation function\r\n",
        "model6.add(tf.keras.layers.Dense(units=60, activation='relu')) #rectifier activation function\r\n",
        "model6.add(tf.keras.layers.Dense(units=60, activation='relu')) #rectifier activation function\r\n",
        "model6.add(tf.keras.layers.Dense(units=1, activation='sigmoid'))\r\n",
        "model6.compile(optimizer = 'adam', loss = 'binary_crossentropy', metrics = ['accuracy'])\r\n",
        "model6.fit(X_train, y_train, batch_size = 5, epochs =100)\r\n",
        "#CONFUSION MATRIX AND ACCURACY\r\n",
        "from sklearn.metrics import confusion_matrix, accuracy_score\r\n",
        "y_pred6 = model1.predict(X_test)\r\n",
        "y_pred6 = (y_pred5>0.5)\r\n",
        "cm6 = confusion_matrix(y_test, y_pred6)\r\n",
        "print(cm6)\r\n",
        "acc6 = accuracy_score(y_test, y_pred6)\r\n",
        "print(acc6)"
      ],
      "execution_count": null,
      "outputs": [
        {
          "output_type": "stream",
          "text": [
            "Epoch 1/100\n",
            "44/44 [==============================] - 1s 1ms/step - loss: 0.6292 - accuracy: 0.6230\n",
            "Epoch 2/100\n",
            "44/44 [==============================] - 0s 1ms/step - loss: 0.4067 - accuracy: 0.8398\n",
            "Epoch 3/100\n",
            "44/44 [==============================] - 0s 1ms/step - loss: 0.3050 - accuracy: 0.8600\n",
            "Epoch 4/100\n",
            "44/44 [==============================] - 0s 2ms/step - loss: 0.2667 - accuracy: 0.8948\n",
            "Epoch 5/100\n",
            "44/44 [==============================] - 0s 2ms/step - loss: 0.2754 - accuracy: 0.8810\n",
            "Epoch 6/100\n",
            "44/44 [==============================] - 0s 2ms/step - loss: 0.2821 - accuracy: 0.8716\n",
            "Epoch 7/100\n",
            "44/44 [==============================] - 0s 2ms/step - loss: 0.2100 - accuracy: 0.9374\n",
            "Epoch 8/100\n",
            "44/44 [==============================] - 0s 1ms/step - loss: 0.2180 - accuracy: 0.9263\n",
            "Epoch 9/100\n",
            "44/44 [==============================] - 0s 1ms/step - loss: 0.2057 - accuracy: 0.9119\n",
            "Epoch 10/100\n",
            "44/44 [==============================] - 0s 2ms/step - loss: 0.1163 - accuracy: 0.9564\n",
            "Epoch 11/100\n",
            "44/44 [==============================] - 0s 1ms/step - loss: 0.1482 - accuracy: 0.9588\n",
            "Epoch 12/100\n",
            "44/44 [==============================] - 0s 1ms/step - loss: 0.1623 - accuracy: 0.9550\n",
            "Epoch 13/100\n",
            "44/44 [==============================] - 0s 2ms/step - loss: 0.0958 - accuracy: 0.9879\n",
            "Epoch 14/100\n",
            "44/44 [==============================] - 0s 1ms/step - loss: 0.1031 - accuracy: 0.9620\n",
            "Epoch 15/100\n",
            "44/44 [==============================] - 0s 1ms/step - loss: 0.0651 - accuracy: 0.9906\n",
            "Epoch 16/100\n",
            "44/44 [==============================] - 0s 1ms/step - loss: 0.0667 - accuracy: 0.9851\n",
            "Epoch 17/100\n",
            "44/44 [==============================] - 0s 1ms/step - loss: 0.0461 - accuracy: 0.9909\n",
            "Epoch 18/100\n",
            "44/44 [==============================] - 0s 2ms/step - loss: 0.0532 - accuracy: 0.9816\n",
            "Epoch 19/100\n",
            "44/44 [==============================] - 0s 1ms/step - loss: 0.0376 - accuracy: 0.9906\n",
            "Epoch 20/100\n",
            "44/44 [==============================] - 0s 1ms/step - loss: 0.0355 - accuracy: 0.9871\n",
            "Epoch 21/100\n",
            "44/44 [==============================] - 0s 2ms/step - loss: 0.0155 - accuracy: 1.0000\n",
            "Epoch 22/100\n",
            "44/44 [==============================] - 0s 2ms/step - loss: 0.0195 - accuracy: 0.9946\n",
            "Epoch 23/100\n",
            "44/44 [==============================] - 0s 1ms/step - loss: 0.0157 - accuracy: 1.0000\n",
            "Epoch 24/100\n",
            "44/44 [==============================] - 0s 1ms/step - loss: 0.0086 - accuracy: 1.0000\n",
            "Epoch 25/100\n",
            "44/44 [==============================] - 0s 1ms/step - loss: 0.0114 - accuracy: 1.0000\n",
            "Epoch 26/100\n",
            "44/44 [==============================] - 0s 1ms/step - loss: 0.0054 - accuracy: 1.0000\n",
            "Epoch 27/100\n",
            "44/44 [==============================] - 0s 1ms/step - loss: 0.0060 - accuracy: 1.0000\n",
            "Epoch 28/100\n",
            "44/44 [==============================] - 0s 2ms/step - loss: 0.0051 - accuracy: 1.0000\n",
            "Epoch 29/100\n",
            "44/44 [==============================] - 0s 2ms/step - loss: 0.0045 - accuracy: 1.0000\n",
            "Epoch 30/100\n",
            "44/44 [==============================] - 0s 2ms/step - loss: 0.0034 - accuracy: 1.0000\n",
            "Epoch 31/100\n",
            "44/44 [==============================] - 0s 2ms/step - loss: 0.0030 - accuracy: 1.0000\n",
            "Epoch 32/100\n",
            "44/44 [==============================] - 0s 2ms/step - loss: 0.0037 - accuracy: 1.0000\n",
            "Epoch 33/100\n",
            "44/44 [==============================] - 0s 1ms/step - loss: 0.0021 - accuracy: 1.0000\n",
            "Epoch 34/100\n",
            "44/44 [==============================] - 0s 2ms/step - loss: 0.0020 - accuracy: 1.0000\n",
            "Epoch 35/100\n",
            "44/44 [==============================] - 0s 2ms/step - loss: 0.0017 - accuracy: 1.0000\n",
            "Epoch 36/100\n",
            "44/44 [==============================] - 0s 2ms/step - loss: 0.0014 - accuracy: 1.0000\n",
            "Epoch 37/100\n",
            "44/44 [==============================] - 0s 1ms/step - loss: 0.0017 - accuracy: 1.0000\n",
            "Epoch 38/100\n",
            "44/44 [==============================] - 0s 2ms/step - loss: 0.0015 - accuracy: 1.0000\n",
            "Epoch 39/100\n",
            "44/44 [==============================] - 0s 2ms/step - loss: 0.0014 - accuracy: 1.0000\n",
            "Epoch 40/100\n",
            "44/44 [==============================] - 0s 2ms/step - loss: 0.0012 - accuracy: 1.0000\n",
            "Epoch 41/100\n",
            "44/44 [==============================] - 0s 2ms/step - loss: 0.0013 - accuracy: 1.0000\n",
            "Epoch 42/100\n",
            "44/44 [==============================] - 0s 1ms/step - loss: 9.9543e-04 - accuracy: 1.0000\n",
            "Epoch 43/100\n",
            "44/44 [==============================] - 0s 1ms/step - loss: 9.4789e-04 - accuracy: 1.0000\n",
            "Epoch 44/100\n",
            "44/44 [==============================] - 0s 2ms/step - loss: 8.0064e-04 - accuracy: 1.0000\n",
            "Epoch 45/100\n",
            "44/44 [==============================] - 0s 2ms/step - loss: 7.4806e-04 - accuracy: 1.0000\n",
            "Epoch 46/100\n",
            "44/44 [==============================] - 0s 1ms/step - loss: 5.7470e-04 - accuracy: 1.0000\n",
            "Epoch 47/100\n",
            "44/44 [==============================] - 0s 1ms/step - loss: 6.0596e-04 - accuracy: 1.0000\n",
            "Epoch 48/100\n",
            "44/44 [==============================] - 0s 2ms/step - loss: 5.6829e-04 - accuracy: 1.0000\n",
            "Epoch 49/100\n",
            "44/44 [==============================] - 0s 2ms/step - loss: 4.7427e-04 - accuracy: 1.0000\n",
            "Epoch 50/100\n",
            "44/44 [==============================] - 0s 2ms/step - loss: 4.6766e-04 - accuracy: 1.0000\n",
            "Epoch 51/100\n",
            "44/44 [==============================] - 0s 2ms/step - loss: 4.2003e-04 - accuracy: 1.0000\n",
            "Epoch 52/100\n",
            "44/44 [==============================] - 0s 1ms/step - loss: 4.2311e-04 - accuracy: 1.0000\n",
            "Epoch 53/100\n",
            "44/44 [==============================] - 0s 2ms/step - loss: 4.0331e-04 - accuracy: 1.0000\n",
            "Epoch 54/100\n",
            "44/44 [==============================] - 0s 1ms/step - loss: 4.3164e-04 - accuracy: 1.0000\n",
            "Epoch 55/100\n",
            "44/44 [==============================] - 0s 2ms/step - loss: 3.6123e-04 - accuracy: 1.0000\n",
            "Epoch 56/100\n",
            "44/44 [==============================] - 0s 2ms/step - loss: 4.5008e-04 - accuracy: 1.0000\n",
            "Epoch 57/100\n",
            "44/44 [==============================] - 0s 2ms/step - loss: 4.6513e-04 - accuracy: 1.0000\n",
            "Epoch 58/100\n",
            "44/44 [==============================] - 0s 2ms/step - loss: 2.8763e-04 - accuracy: 1.0000\n",
            "Epoch 59/100\n",
            "44/44 [==============================] - 0s 1ms/step - loss: 2.9997e-04 - accuracy: 1.0000\n",
            "Epoch 60/100\n",
            "44/44 [==============================] - 0s 2ms/step - loss: 3.2261e-04 - accuracy: 1.0000\n",
            "Epoch 61/100\n",
            "44/44 [==============================] - 0s 1ms/step - loss: 2.0348e-04 - accuracy: 1.0000\n",
            "Epoch 62/100\n",
            "44/44 [==============================] - 0s 2ms/step - loss: 2.6147e-04 - accuracy: 1.0000\n",
            "Epoch 63/100\n",
            "44/44 [==============================] - 0s 2ms/step - loss: 2.4087e-04 - accuracy: 1.0000\n",
            "Epoch 64/100\n",
            "44/44 [==============================] - 0s 1ms/step - loss: 2.3351e-04 - accuracy: 1.0000\n",
            "Epoch 65/100\n",
            "44/44 [==============================] - 0s 2ms/step - loss: 2.1749e-04 - accuracy: 1.0000\n",
            "Epoch 66/100\n",
            "44/44 [==============================] - 0s 2ms/step - loss: 2.1260e-04 - accuracy: 1.0000\n",
            "Epoch 67/100\n",
            "44/44 [==============================] - 0s 2ms/step - loss: 1.9214e-04 - accuracy: 1.0000\n",
            "Epoch 68/100\n",
            "44/44 [==============================] - 0s 2ms/step - loss: 2.0962e-04 - accuracy: 1.0000\n",
            "Epoch 69/100\n",
            "44/44 [==============================] - 0s 2ms/step - loss: 2.0957e-04 - accuracy: 1.0000\n",
            "Epoch 70/100\n",
            "44/44 [==============================] - 0s 2ms/step - loss: 1.6633e-04 - accuracy: 1.0000\n",
            "Epoch 71/100\n",
            "44/44 [==============================] - 0s 2ms/step - loss: 1.7385e-04 - accuracy: 1.0000\n",
            "Epoch 72/100\n",
            "44/44 [==============================] - 0s 2ms/step - loss: 1.7323e-04 - accuracy: 1.0000\n",
            "Epoch 73/100\n",
            "44/44 [==============================] - 0s 2ms/step - loss: 1.1530e-04 - accuracy: 1.0000\n",
            "Epoch 74/100\n",
            "44/44 [==============================] - 0s 2ms/step - loss: 1.3237e-04 - accuracy: 1.0000\n",
            "Epoch 75/100\n",
            "44/44 [==============================] - 0s 2ms/step - loss: 1.3989e-04 - accuracy: 1.0000\n",
            "Epoch 76/100\n",
            "44/44 [==============================] - 0s 2ms/step - loss: 1.0013e-04 - accuracy: 1.0000\n",
            "Epoch 77/100\n",
            "44/44 [==============================] - 0s 2ms/step - loss: 1.6919e-04 - accuracy: 1.0000\n",
            "Epoch 78/100\n",
            "44/44 [==============================] - 0s 2ms/step - loss: 1.1770e-04 - accuracy: 1.0000\n",
            "Epoch 79/100\n",
            "44/44 [==============================] - 0s 2ms/step - loss: 1.0497e-04 - accuracy: 1.0000\n",
            "Epoch 80/100\n",
            "44/44 [==============================] - 0s 2ms/step - loss: 8.8450e-05 - accuracy: 1.0000\n",
            "Epoch 81/100\n",
            "44/44 [==============================] - 0s 2ms/step - loss: 9.0381e-05 - accuracy: 1.0000\n",
            "Epoch 82/100\n",
            "44/44 [==============================] - 0s 2ms/step - loss: 7.6079e-05 - accuracy: 1.0000\n",
            "Epoch 83/100\n",
            "44/44 [==============================] - 0s 2ms/step - loss: 9.9171e-05 - accuracy: 1.0000\n",
            "Epoch 84/100\n",
            "44/44 [==============================] - 0s 2ms/step - loss: 8.7501e-05 - accuracy: 1.0000\n",
            "Epoch 85/100\n",
            "44/44 [==============================] - 0s 2ms/step - loss: 7.8522e-05 - accuracy: 1.0000\n",
            "Epoch 86/100\n",
            "44/44 [==============================] - 0s 2ms/step - loss: 8.8467e-05 - accuracy: 1.0000\n",
            "Epoch 87/100\n",
            "44/44 [==============================] - 0s 2ms/step - loss: 9.3199e-05 - accuracy: 1.0000\n",
            "Epoch 88/100\n",
            "44/44 [==============================] - 0s 2ms/step - loss: 7.5159e-05 - accuracy: 1.0000\n",
            "Epoch 89/100\n",
            "44/44 [==============================] - 0s 2ms/step - loss: 6.6529e-05 - accuracy: 1.0000\n",
            "Epoch 90/100\n",
            "44/44 [==============================] - 0s 2ms/step - loss: 6.4118e-05 - accuracy: 1.0000\n",
            "Epoch 91/100\n",
            "44/44 [==============================] - 0s 2ms/step - loss: 7.4764e-05 - accuracy: 1.0000\n",
            "Epoch 92/100\n",
            "44/44 [==============================] - 0s 2ms/step - loss: 7.4671e-05 - accuracy: 1.0000\n",
            "Epoch 93/100\n",
            "44/44 [==============================] - 0s 2ms/step - loss: 5.1043e-05 - accuracy: 1.0000\n",
            "Epoch 94/100\n",
            "44/44 [==============================] - 0s 2ms/step - loss: 6.1503e-05 - accuracy: 1.0000\n",
            "Epoch 95/100\n",
            "44/44 [==============================] - 0s 2ms/step - loss: 6.0122e-05 - accuracy: 1.0000\n",
            "Epoch 96/100\n",
            "44/44 [==============================] - 0s 2ms/step - loss: 5.4684e-05 - accuracy: 1.0000\n",
            "Epoch 97/100\n",
            "44/44 [==============================] - 0s 2ms/step - loss: 6.0989e-05 - accuracy: 1.0000\n",
            "Epoch 98/100\n",
            "44/44 [==============================] - 0s 2ms/step - loss: 4.4965e-05 - accuracy: 1.0000\n",
            "Epoch 99/100\n",
            "44/44 [==============================] - 0s 1ms/step - loss: 4.5012e-05 - accuracy: 1.0000\n",
            "Epoch 100/100\n",
            "44/44 [==============================] - 0s 2ms/step - loss: 4.7738e-05 - accuracy: 1.0000\n",
            "[[26  5]\n",
            " [ 3 20]]\n",
            "0.8518518518518519\n"
          ],
          "name": "stdout"
        }
      ]
    },
    {
      "cell_type": "code",
      "metadata": {
        "colab": {
          "base_uri": "https://localhost:8080/"
        },
        "id": "LYpUf0kVxy8P",
        "outputId": "6473d89d-f9a7-4efa-b00c-a8c41728929d"
      },
      "source": [
        "import sklearn.metrics as metrics\r\n",
        "# calculate the fpr and tpr for all thresholds of the classification\r\n",
        "probs1 = model4.predict_proba(X_test)\r\n",
        "probs2 = model5.predict_proba(X_test)\r\n",
        "probs3 = model6.predict_proba(X_test)\r\n",
        "\r\n",
        "probs1"
      ],
      "execution_count": null,
      "outputs": [
        {
          "output_type": "stream",
          "text": [
            "/usr/local/lib/python3.6/dist-packages/tensorflow/python/keras/engine/sequential.py:425: UserWarning: `model.predict_proba()` is deprecated and will be removed after 2021-01-01. Please use `model.predict()` instead.\n",
            "  warnings.warn('`model.predict_proba()` is deprecated and '\n"
          ],
          "name": "stderr"
        },
        {
          "output_type": "execute_result",
          "data": {
            "text/plain": [
              "array([[4.2442110e-07],\n",
              "       [9.9979293e-01],\n",
              "       [6.5431965e-11],\n",
              "       [9.9991983e-01],\n",
              "       [9.9999678e-01],\n",
              "       [1.3892651e-03],\n",
              "       [9.9982774e-01],\n",
              "       [1.6867000e-01],\n",
              "       [1.1574328e-03],\n",
              "       [1.0000000e+00],\n",
              "       [9.9992514e-01],\n",
              "       [9.9998164e-01],\n",
              "       [1.0000000e+00],\n",
              "       [1.0492715e-05],\n",
              "       [1.1247098e-03],\n",
              "       [1.0000000e+00],\n",
              "       [1.5010834e-03],\n",
              "       [9.9649620e-01],\n",
              "       [1.2129331e-01],\n",
              "       [1.4584308e-08],\n",
              "       [9.7204930e-01],\n",
              "       [1.3944423e-06],\n",
              "       [3.5989285e-04],\n",
              "       [6.8407358e-06],\n",
              "       [2.7871132e-04],\n",
              "       [3.2696128e-04],\n",
              "       [4.5986623e-02],\n",
              "       [3.6648919e-07],\n",
              "       [2.6583374e-03],\n",
              "       [9.9760830e-01],\n",
              "       [2.0393133e-03],\n",
              "       [5.3808785e-06],\n",
              "       [7.0241070e-01],\n",
              "       [1.0000000e+00],\n",
              "       [9.1558194e-01],\n",
              "       [3.0205870e-01],\n",
              "       [5.9709642e-09],\n",
              "       [1.4268451e-06],\n",
              "       [3.3599138e-04],\n",
              "       [8.4258115e-01],\n",
              "       [5.2174926e-04],\n",
              "       [2.5242805e-02],\n",
              "       [1.6529769e-02],\n",
              "       [1.4051545e-07],\n",
              "       [1.9926422e-10],\n",
              "       [8.6641312e-04],\n",
              "       [1.9935214e-07],\n",
              "       [9.9872029e-01],\n",
              "       [6.4975774e-01],\n",
              "       [1.0000000e+00],\n",
              "       [3.2550097e-04],\n",
              "       [9.9953115e-01],\n",
              "       [1.8559868e-10],\n",
              "       [9.3209791e-01]], dtype=float32)"
            ]
          },
          "metadata": {
            "tags": []
          },
          "execution_count": 21
        }
      ]
    },
    {
      "cell_type": "code",
      "metadata": {
        "colab": {
          "base_uri": "https://localhost:8080/",
          "height": 350
        },
        "id": "-JuUe4Kku5s3",
        "outputId": "c47f76c9-17da-4275-aa19-78acd44540da"
      },
      "source": [
        "import sklearn.metrics as metrics\r\n",
        "# calculate the fpr and tpr for all thresholds of the classification\r\n",
        "probs1 = model4.predict_proba(X_test)\r\n",
        "probs2 = model5.predict_proba(X_test)\r\n",
        "probs3 = model6.predict_proba(X_test)\r\n",
        "preds1 = probs1[:,:]\r\n",
        "preds2 = probs2[:,:]\r\n",
        "preds3 = probs3[:,:]\r\n",
        "fpr1, tpr1, threshold1 = metrics.roc_curve(y_test, preds1)\r\n",
        "fpr2, tpr2, threshold2 = metrics.roc_curve(y_test, preds2)\r\n",
        "fpr3, tpr3, threshold3 = metrics.roc_curve(y_test, preds3)\r\n",
        "roc_auc1 = metrics.auc(fpr1, tpr1)\r\n",
        "roc_auc2 = metrics.auc(fpr2, tpr2)\r\n",
        "roc_auc3 = metrics.auc(fpr3, tpr3)\r\n",
        "\r\n",
        "# method I: plt\r\n",
        "import matplotlib.pyplot as plt\r\n",
        "plt.title('Receiver Operating Characteristic')\r\n",
        "plt.plot(fpr1, tpr1, 'r', label = 'AUC = %0.2f' % roc_auc1)\r\n",
        "plt.plot(fpr2, tpr2, 'g', label = 'AUC = %0.2f' % roc_auc2)\r\n",
        "plt.plot(fpr3, tpr3, 'b', label = 'AUC = %0.2f' % roc_auc3)\r\n",
        "plt.legend(loc = 'lower right')\r\n",
        "plt.plot([0, 1], [0, 1],'r--')\r\n",
        "plt.xlim([0, 1])\r\n",
        "plt.ylim([0, 1])\r\n",
        "plt.ylabel('True Positive Rate')\r\n",
        "plt.xlabel('False Positive Rate')\r\n",
        "plt.show()"
      ],
      "execution_count": null,
      "outputs": [
        {
          "output_type": "stream",
          "text": [
            "/usr/local/lib/python3.6/dist-packages/tensorflow/python/keras/engine/sequential.py:425: UserWarning: `model.predict_proba()` is deprecated and will be removed after 2021-01-01. Please use `model.predict()` instead.\n",
            "  warnings.warn('`model.predict_proba()` is deprecated and '\n"
          ],
          "name": "stderr"
        },
        {
          "output_type": "display_data",
          "data": {
            "image/png": "[encoded data removed]",
            "text/plain": [
              "<Figure size 432x288 with 1 Axes>"
            ]
          },
          "metadata": {
            "tags": [],
            "needs_background": "light"
          }
        }
      ]
    },
    {
      "cell_type": "code",
      "metadata": {
        "id": "ZpwOKFeAxVBu",
        "colab": {
          "base_uri": "https://localhost:8080/"
        },
        "outputId": "c758316f-8f86-4cc5-b51b-1ae237e7d8b9"
      },
      "source": [
        "#Test the model\r\n",
        "#Define input\r\n",
        "\r\n",
        "a=271  #ID\r\n",
        "b=30   #age\r\n",
        "c=1    #sex\r\n",
        "d=4    #chest\r\n",
        "e=160  #resting_blood_pressure\r\n",
        "f=286  #serum_cholestoral\r\n",
        "g=5    #fasting_blood_sugar\r\n",
        "h=2    #resting_electrocardiographic_results\r\n",
        "i=108  #maximum_heart_rate_achieved\r\n",
        "j=1    #exercise_induced_angina\r\n",
        "k=1.5  #oldpeak\r\n",
        "l=2    #slope\r\n",
        "m=3    #number_of_major_vessels\r\n",
        "n=3    #thal\r\n",
        "\r\n",
        "new_input = [[a,b,c,d,e,f,g,h,i,j,k,l,m,n]]\r\n",
        "X_new = sc.transform(new_input)\r\n",
        "y_new = model.predict(X_new)\r\n",
        "print(y_new)\r\n",
        "if y_new==1:\r\n",
        "    print('Potential Heart Disease Patient')\r\n",
        "else:\r\n",
        "    print('Healthy Patient')"
      ],
      "execution_count": null,
      "outputs": [
        {
          "output_type": "stream",
          "text": [
            "[[1.]]\n",
            "Potential Heart Disease Patient\n"
          ],
          "name": "stdout"
        }
      ]
    }
  ]
}