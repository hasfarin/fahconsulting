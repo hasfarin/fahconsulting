{
  "nbformat": 4,
  "nbformat_minor": 0,
  "metadata": {
    "colab": {
      "name": "KPJ.ipynb",
      "provenance": []
    },
    "kernelspec": {
      "name": "python3",
      "display_name": "Python 3"
    }
  },
  "cells": [
    {
      "cell_type": "markdown",
      "metadata": {
        "id": "dZhb-ve21st2"
      },
      "source": [
        "DATA PREPROCESSING"
      ]
    },
    {
      "cell_type": "code",
      "metadata": {
        "id": "NnqeMiAU1xb1"
      },
      "source": [
        "##Data Preprocessing\n",
        "#import the libraries\n",
        "import pandas as pd #import datasets\n",
        "import numpy as np #working with arrays\n",
        "import matplotlib.pyplot as plt #charts\n",
        "import tensorflow as tf #for artificial neural network"
      ],
      "execution_count": null,
      "outputs": []
    },
    {
      "cell_type": "code",
      "metadata": {
        "id": "fac5YIeY2NV8"
      },
      "source": [
        "#import datasets\n",
        "dataset = pd.read_csv('dataset.csv')\n",
        "X = dataset.iloc[:,:-1]\n",
        "y = dataset.iloc[:,-1]"
      ],
      "execution_count": null,
      "outputs": []
    },
    {
      "cell_type": "code",
      "metadata": {
        "colab": {
          "base_uri": "https://localhost:8080/"
        },
        "id": "PI5eQVB7Xhhj",
        "outputId": "ce4f4d6a-dcea-4a9f-bee9-dc035e97b747"
      },
      "source": [
        "dataset.info()"
      ],
      "execution_count": null,
      "outputs": [
        {
          "output_type": "stream",
          "text": [
            "<class 'pandas.core.frame.DataFrame'>\n",
            "RangeIndex: 270 entries, 0 to 269\n",
            "Data columns (total 15 columns):\n",
            " #   Column                                Non-Null Count  Dtype  \n",
            "---  ------                                --------------  -----  \n",
            " 0   id                                    270 non-null    int64  \n",
            " 1   age                                   270 non-null    int64  \n",
            " 2   sex                                   270 non-null    int64  \n",
            " 3   chest                                 270 non-null    int64  \n",
            " 4   resting_blood_pressure                270 non-null    int64  \n",
            " 5   serum_cholestoral                     270 non-null    int64  \n",
            " 6   fasting_blood_sugar                   270 non-null    int64  \n",
            " 7   resting_electrocardiographic_results  270 non-null    int64  \n",
            " 8   maximum_heart_rate_achieved           270 non-null    int64  \n",
            " 9   exercise_induced_angina               270 non-null    int64  \n",
            " 10  oldpeak                               270 non-null    float64\n",
            " 11  slope                                 270 non-null    int64  \n",
            " 12  number_of_major_vessels               270 non-null    int64  \n",
            " 13  thal                                  270 non-null    int64  \n",
            " 14  class                                 270 non-null    object \n",
            "dtypes: float64(1), int64(13), object(1)\n",
            "memory usage: 31.8+ KB\n"
          ],
          "name": "stdout"
        }
      ]
    },
    {
      "cell_type": "code",
      "metadata": {
        "id": "nbyrerKZ2aan"
      },
      "source": [
        "#taking care of missing data\n",
        "from sklearn.impute import SimpleImputer\n",
        "imputer = SimpleImputer(missing_values=np.nan,strategy='mean')\n",
        "imputer.fit(X)\n",
        "X = imputer.transform(X)"
      ],
      "execution_count": null,
      "outputs": []
    },
    {
      "cell_type": "code",
      "metadata": {
        "id": "CDjFs0aD2dHt"
      },
      "source": [
        "#ENCODE CATEGORICAL DATA\n",
        "\n",
        "#encode Independent Variable\n",
        "\"\"\"\n",
        "from sklearn.compose import ColumnTransformer\n",
        "from sklearn.preprocessing import OneHotEncoder\n",
        "\n",
        "ct = ColumnTransformer(transformers=[('encoder', OneHotEncoder(), [0])], remainder='passthrough')\n",
        "X = np.array(ct.fit_transform(X))\n",
        "\"\"\"\n",
        "\n",
        "#encode Dependent Variable\n",
        "from sklearn.preprocessing import LabelEncoder\n",
        "le = LabelEncoder()\n",
        "y = le.fit_transform(y)"
      ],
      "execution_count": null,
      "outputs": []
    },
    {
      "cell_type": "code",
      "metadata": {
        "colab": {
          "base_uri": "https://localhost:8080/",
          "height": 297
        },
        "id": "_vZoVl3MrY5X",
        "outputId": "d7119223-b604-4754-a2d7-b27724f03ad0"
      },
      "source": [
        "# Generate data on commute times.\n",
        "\n",
        "commutes = pd.Series(y)\n",
        "#commutes.plot.hist(grid=True, bins=20,color='#607c8e')\n",
        "commutes.plot.hist()\n",
        "plt.xlabel('Heart Disease')\n",
        "plt.ylabel('Counts')"
      ],
      "execution_count": null,
      "outputs": [
        {
          "output_type": "execute_result",
          "data": {
            "text/plain": [
              "Text(0, 0.5, 'Counts')"
            ]
          },
          "metadata": {
            "tags": []
          },
          "execution_count": 7
        },
        {
          "output_type": "display_data",
          "data": {
            "image/png": "[encoded data removed]",
            "text/plain": [
              "<Figure size 432x288 with 1 Axes>"
            ]
          },
          "metadata": {
            "tags": [],
            "needs_background": "light"
          }
        }
      ]
    },
    {
      "cell_type": "code",
      "metadata": {
        "id": "O05yJHBG2hKl"
      },
      "source": [
        "#SPLIT TRAIN & TEST DATA\n",
        "from sklearn.model_selection import train_test_split\n",
        "X_train, X_test, y_train, y_test = train_test_split(X, y, test_size = 0.2, random_state=1)"
      ],
      "execution_count": null,
      "outputs": []
    },
    {
      "cell_type": "code",
      "metadata": {
        "id": "yZklXLAc2nud"
      },
      "source": [
        "#Feature Scaling\n",
        "#standardisation\n",
        "from sklearn.preprocessing import StandardScaler\n",
        "sc = StandardScaler() \n",
        "X_train = sc.fit_transform(X_train)\n",
        "X_test = sc.transform(X_test)"
      ],
      "execution_count": null,
      "outputs": []
    },
    {
      "cell_type": "markdown",
      "metadata": {
        "id": "sYLeVy_x2xH9"
      },
      "source": [
        "CLASSIFIER"
      ]
    },
    {
      "cell_type": "code",
      "metadata": {
        "id": "AB4b3gNz2snd",
        "colab": {
          "base_uri": "https://localhost:8080/"
        },
        "outputId": "7b3fea29-8633-4429-85ee-e775d2ac15e6"
      },
      "source": [
        "#from sklearn.linear_model import LogisticRegression\n",
        "#classifier = LogisticRegression(random_state=0)\n",
        "\n",
        "#from sklearn.neighbors import KNeighborsClassifier\n",
        "#classifier = KNeighborsClassifier(n_neighbors=5, metric='minkowski',p=2)\n",
        "\n",
        "#from sklearn.svm import SVC\n",
        "#classifier = SVC(kernel='linear', random_state = 0)\n",
        "\n",
        "#from sklearn.svm import SVC\n",
        "#classifier = SVC(kernel='rbf', random_state = 0)\n",
        "\n",
        "#Naive Bayes\n",
        "from sklearn.naive_bayes import GaussianNB\n",
        "nb1 = GaussianNB()\n",
        "nb2 = GaussianNB(var_smoothing=1)\n",
        "nb3 = GaussianNB(var_smoothing=10)\n",
        "nb1.fit(X_train , y_train)\n",
        "nb2.fit(X_train , y_train)\n",
        "nb3.fit(X_train , y_train)\n",
        "\n",
        "#Decision Tree\n",
        "from sklearn.tree import DecisionTreeClassifier\n",
        "dt1 = DecisionTreeClassifier(criterion = 'entropy', random_state = 0)\n",
        "dt2 = DecisionTreeClassifier(criterion = 'entropy', random_state = 0,max_depth = 1)\n",
        "dt3 = DecisionTreeClassifier(criterion = 'entropy', random_state = 0,max_depth = 10)\n",
        "dt1.fit(X_train, y_train)\n",
        "dt2.fit(X_train, y_train)\n",
        "dt3.fit(X_train, y_train)\n",
        "\n",
        "#from sklearn.ensemble import RandomForestClassifier\n",
        "#classifier = RandomForestClassifier(n_estimators = 10, criterion = 'entropy', random_state = 0)\n",
        "\n",
        "#classifier1.fit(X_train, y_train)\n",
        "#classifier2.fit(X_train, y_train)"
      ],
      "execution_count": null,
      "outputs": [
        {
          "output_type": "execute_result",
          "data": {
            "text/plain": [
              "DecisionTreeClassifier(ccp_alpha=0.0, class_weight=None, criterion='entropy',\n",
              "                       max_depth=10, max_features=None, max_leaf_nodes=None,\n",
              "                       min_impurity_decrease=0.0, min_impurity_split=None,\n",
              "                       min_samples_leaf=1, min_samples_split=2,\n",
              "                       min_weight_fraction_leaf=0.0, presort='deprecated',\n",
              "                       random_state=0, splitter='best')"
            ]
          },
          "metadata": {
            "tags": []
          },
          "execution_count": 59
        }
      ]
    },
    {
      "cell_type": "code",
      "metadata": {
        "id": "gjbeo9ug3UkF",
        "colab": {
          "base_uri": "https://localhost:8080/"
        },
        "outputId": "d4e1e964-cdc5-4d1c-d8a7-cf855f6ed3f0"
      },
      "source": [
        "#CONFUSION MATRIX AND ACCURACY\n",
        "from sklearn.metrics import confusion_matrix, accuracy_score\n",
        "y_pred1 = nb1.predict(X_test)\n",
        "y_pred2 = nb2.predict(X_test)\n",
        "y_pred3 = nb3.predict(X_test)\n",
        "cm1 = confusion_matrix(y_test, y_pred1)\n",
        "cm2 = confusion_matrix(y_test, y_pred2)\n",
        "cm3 = confusion_matrix(y_test, y_pred3)\n",
        "print('Naive Bayes: ')\n",
        "print('Confusion Matrix: \\n',cm1,'\\n\\n',cm2,'\\n\\n',cm3,'\\n')\n",
        "acc1 = accuracy_score(y_test, y_pred1)\n",
        "acc2 = accuracy_score(y_test, y_pred2)\n",
        "acc3 = accuracy_score(y_test, y_pred3)\n",
        "print('Accuracy: ','\\n',acc1,'\\n\\n',acc2,'\\n\\n',acc3)\n",
        "\n",
        "#CONFUSION MATRIX AND ACCURACY\n",
        "from sklearn.metrics import confusion_matrix, accuracy_score\n",
        "y_pred4 = dt1.predict(X_test)\n",
        "y_pred5 = dt2.predict(X_test)\n",
        "y_pred6 = dt3.predict(X_test)\n",
        "cm4 = confusion_matrix(y_test, y_pred4)\n",
        "cm5 = confusion_matrix(y_test, y_pred5)\n",
        "cm6 = confusion_matrix(y_test, y_pred6)\n",
        "print('\\n Decision Tree: ')\n",
        "print('Confusion Matrix: \\n',cm4,'\\n\\n',cm5,'\\n\\n',cm6,'\\n')\n",
        "acc4 = accuracy_score(y_test, y_pred4)\n",
        "acc5 = accuracy_score(y_test, y_pred5)\n",
        "acc6 = accuracy_score(y_test, y_pred6)\n",
        "print('Accuracy: ','\\n',acc4,'\\n\\n',acc5,'\\n\\n',acc6)"
      ],
      "execution_count": null,
      "outputs": [
        {
          "output_type": "stream",
          "text": [
            "Naive Bayes: \n",
            "Confusion Matrix: \n",
            " [[28  3]\n",
            " [ 4 19]] \n",
            "\n",
            " [[29  2]\n",
            " [ 7 16]] \n",
            "\n",
            " [[30  1]\n",
            " [11 12]] \n",
            "\n",
            "Accuracy:  \n",
            " 0.8703703703703703 \n",
            "\n",
            " 0.8333333333333334 \n",
            "\n",
            " 0.7777777777777778\n",
            "\n",
            " Decision Tree: \n",
            "Confusion Matrix: \n",
            " [[25  6]\n",
            " [ 7 16]] \n",
            "\n",
            " [[21 10]\n",
            " [ 9 14]] \n",
            "\n",
            " [[25  6]\n",
            " [ 7 16]] \n",
            "\n",
            "Accuracy:  \n",
            " 0.7592592592592593 \n",
            "\n",
            " 0.6481481481481481 \n",
            "\n",
            " 0.7592592592592593\n"
          ],
          "name": "stdout"
        }
      ]
    },
    {
      "cell_type": "code",
      "metadata": {
        "colab": {
          "base_uri": "https://localhost:8080/"
        },
        "id": "xSZ8gA8A1YTs",
        "outputId": "840d1fad-0784-4012-fc4d-695dba8751e6"
      },
      "source": [
        "from sklearn.model_selection import cross_val_score\r\n",
        "scores1=cross_val_score(nb1, X, y, cv=10)\r\n",
        "print(np.mean(scores1))\r\n",
        "scores2=cross_val_score(nb2, X, y, cv=10)\r\n",
        "print(np.mean(scores2))\r\n",
        "scores3=cross_val_score(nb3, X, y, cv=10)\r\n",
        "print(np.mean(scores3))"
      ],
      "execution_count": null,
      "outputs": [
        {
          "output_type": "stream",
          "text": [
            "0.8407407407407407\n",
            "0.5740740740740741\n",
            "0.5555555555555556\n"
          ],
          "name": "stdout"
        }
      ]
    },
    {
      "cell_type": "code",
      "metadata": {
        "colab": {
          "base_uri": "https://localhost:8080/"
        },
        "id": "flwhEJnC2Dvh",
        "outputId": "26d28c47-7861-4a09-9bf4-7d0ae34120a6"
      },
      "source": [
        "from sklearn.model_selection import cross_val_score\r\n",
        "scores4=cross_val_score(dt1, X, y, cv=10)\r\n",
        "print(np.mean(scores4))\r\n",
        "scores5=cross_val_score(dt2, X, y, cv=10)\r\n",
        "print(np.mean(scores5))\r\n",
        "scores6=cross_val_score(dt3, X, y, cv=10)\r\n",
        "print(np.mean(scores6))"
      ],
      "execution_count": null,
      "outputs": [
        {
          "output_type": "stream",
          "text": [
            "0.7592592592592593\n",
            "0.7185185185185186\n",
            "0.762962962962963\n"
          ],
          "name": "stdout"
        }
      ]
    },
    {
      "cell_type": "code",
      "metadata": {
        "id": "QUvzqoNCRs9J",
        "colab": {
          "base_uri": "https://localhost:8080/"
        },
        "outputId": "9958b87f-fe6e-42ef-c93c-acad3af65918"
      },
      "source": [
        "#Test the model\n",
        "#Define input\n",
        "\n",
        "a=270  #ID\n",
        "b=67   #age\n",
        "c=1    #sex\n",
        "d=4    #chest\n",
        "e=160  #resting_blood_pressure\n",
        "f=286  #serum_cholestoral\n",
        "g=0    #fasting_blood_sugar\n",
        "h=2    #resting_electrocardiographic_results\n",
        "i=108  #maximum_heart_rate_achieved\n",
        "j=1    #exercise_induced_angina\n",
        "k=1.5  #oldpeak\n",
        "l=2    #slope\n",
        "m=3    #number_of_major_vessels\n",
        "n=3    #thal\n",
        "\n",
        "new_input = [[a,b,c,d,e,f,g,h,i,j,k,l,m,n]]\n",
        "X_new = sc.transform(new_input)\n",
        "\n",
        "y_new1 = classifier1.predict(X_new)\n",
        "y_new2 = classifier2.predict(X_new)\n",
        "\n",
        "if y_new1==1:                                      \n",
        "    print('Potential Heart Disease Patient')\n",
        "else:\n",
        "    print('Healthy Patient')\n",
        "\n",
        "if y_new2==1:                                      \n",
        "    print('Potential Heart Disease Patient')\n",
        "else:\n",
        "    print('Healthy Patient')    "
      ],
      "execution_count": null,
      "outputs": [
        {
          "output_type": "stream",
          "text": [
            "Potential Heart Disease Patient\n",
            "Potential Heart Disease Patient\n"
          ],
          "name": "stdout"
        }
      ]
    },
    {
      "cell_type": "code",
      "metadata": {
        "colab": {
          "base_uri": "https://localhost:8080/"
        },
        "id": "QXM9uNLk9yLG",
        "outputId": "1cfae1e0-4916-4944-93b0-fb4781595268"
      },
      "source": [
        "X_new = sc.transform(X_test)\n",
        "y_new = classifier.predict(X_new)\n",
        "\n",
        "from sklearn.metrics import confusion_matrix, accuracy_score\n",
        "cm = confusion_matrix(y_train, y_new)\n",
        "print(cm)\n",
        "acc = accuracy_score(y_train, y_new)\n",
        "print(acc)\n",
        "\n"
      ],
      "execution_count": null,
      "outputs": [
        {
          "output_type": "stream",
          "text": [
            "[[144   6]\n",
            " [  7 113]]\n",
            "0.9518518518518518\n"
          ],
          "name": "stdout"
        }
      ]
    },
    {
      "cell_type": "code",
      "metadata": {
        "colab": {
          "base_uri": "https://localhost:8080/",
          "height": 295
        },
        "id": "wVISptw96Nre",
        "outputId": "400dfb1f-aab3-41ae-b925-2b9807066a37"
      },
      "source": [
        "import sklearn.metrics as metrics\n",
        "# calculate the fpr and tpr for all thresholds of the classification\n",
        "probs1 = nb1.predict_proba(X_test)\n",
        "probs2 = nb2.predict_proba(X_test)\n",
        "probs3 = nb3.predict_proba(X_test)\n",
        "preds1 = probs1[:,1]\n",
        "preds2 = probs2[:,1]\n",
        "preds3 = probs3[:,1]\n",
        "fpr1, tpr1, threshold1 = metrics.roc_curve(y_test, preds1)\n",
        "fpr2, tpr2, threshold2 = metrics.roc_curve(y_test, preds2)\n",
        "fpr3, tpr3, threshold3 = metrics.roc_curve(y_test, preds3)\n",
        "roc_auc1 = metrics.auc(fpr1, tpr1)\n",
        "roc_auc2 = metrics.auc(fpr2, tpr2)\n",
        "roc_auc3 = metrics.auc(fpr3, tpr3)\n",
        "\n",
        "# method I: plt\n",
        "import matplotlib.pyplot as plt\n",
        "plt.title('Receiver Operating Characteristic')\n",
        "plt.plot(fpr1, tpr1, 'r', label = 'AUC = %0.2f' % roc_auc1)\n",
        "plt.plot(fpr2, tpr2, 'g', label = 'AUC = %0.2f' % roc_auc2)\n",
        "plt.plot(fpr3, tpr3, 'b', label = 'AUC = %0.2f' % roc_auc3)\n",
        "plt.legend(loc = 'lower right')\n",
        "plt.plot([0, 1], [0, 1],'r--')\n",
        "plt.xlim([0, 1])\n",
        "plt.ylim([0, 1])\n",
        "plt.ylabel('True Positive Rate')\n",
        "plt.xlabel('False Positive Rate')\n",
        "plt.show()\n"
      ],
      "execution_count": null,
      "outputs": [
        {
          "output_type": "display_data",
          "data": {
            "image/png": "[encoded data removed]",
            "text/plain": [
              "<Figure size 432x288 with 1 Axes>"
            ]
          },
          "metadata": {
            "tags": [],
            "needs_background": "light"
          }
        }
      ]
    },
    {
      "cell_type": "code",
      "metadata": {
        "colab": {
          "base_uri": "https://localhost:8080/",
          "height": 295
        },
        "id": "N6JTlXDItcJc",
        "outputId": "05e1e286-c4c6-444e-d2d9-fda0db0a95c2"
      },
      "source": [
        "import sklearn.metrics as metrics\r\n",
        "# calculate the fpr and tpr for all thresholds of the classification\r\n",
        "probs4 = dt1.predict_proba(X_test)\r\n",
        "probs5 = dt2.predict_proba(X_test)\r\n",
        "probs6 = dt3.predict_proba(X_test)\r\n",
        "preds4 = probs4[:,1]\r\n",
        "preds5 = probs5[:,1]\r\n",
        "preds6 = probs6[:,1]\r\n",
        "fpr4, tpr4, threshold4 = metrics.roc_curve(y_test, preds4)\r\n",
        "fpr5, tpr5, threshold5 = metrics.roc_curve(y_test, preds5)\r\n",
        "fpr6, tpr6, threshold6 = metrics.roc_curve(y_test, preds6)\r\n",
        "roc_auc4 = metrics.auc(fpr4, tpr4)\r\n",
        "roc_auc5 = metrics.auc(fpr5, tpr5)\r\n",
        "roc_auc6 = metrics.auc(fpr6, tpr6)\r\n",
        "\r\n",
        "# method I: plt\r\n",
        "import matplotlib.pyplot as plt\r\n",
        "plt.title('Receiver Operating Characteristic')\r\n",
        "plt.plot(fpr4, tpr4, 'r', label = 'AUC = %0.2f' % roc_auc4)\r\n",
        "plt.plot(fpr5, tpr5, 'g', label = 'AUC = %0.2f' % roc_auc5)\r\n",
        "plt.plot(fpr6, tpr6, 'b', label = 'AUC = %0.2f' % roc_auc6)\r\n",
        "plt.legend(loc = 'lower right')\r\n",
        "plt.plot([0, 1], [0, 1],'r--')\r\n",
        "plt.xlim([0, 1])\r\n",
        "plt.ylim([0, 1])\r\n",
        "plt.ylabel('True Positive Rate')\r\n",
        "plt.xlabel('False Positive Rate')\r\n",
        "plt.show()"
      ],
      "execution_count": null,
      "outputs": [
        {
          "output_type": "display_data",
          "data": {
            "image/png": "[encoded data removed]",
            "text/plain": [
              "<Figure size 432x288 with 1 Axes>"
            ]
          },
          "metadata": {
            "tags": [],
            "needs_background": "light"
          }
        }
      ]
    }
  ]
}